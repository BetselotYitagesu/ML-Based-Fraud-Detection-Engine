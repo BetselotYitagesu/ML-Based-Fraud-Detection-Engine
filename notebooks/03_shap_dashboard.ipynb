{
 "cells": [
  {
   "cell_type": "markdown",
   "id": "a8cdad87",
   "metadata": {},
   "source": [
    "### Load Data and Trained Model"
   ]
  },
  {
   "cell_type": "code",
   "execution_count": 1,
   "id": "417e7e0f",
   "metadata": {},
   "outputs": [],
   "source": [
    "import pandas as pd\n",
    "import joblib\n",
    "\n",
    "# Load data (e.g., Credit Card dataset)\n",
    "X_test = pd.read_csv(\"../data/processed/X_test_final_credit.csv\")\n",
    "y_test = pd.read_csv(\"../data/processed/y_test_final_credit.csv\")\n",
    "\n",
    "# Load trained Random Forest model\n",
    "model = joblib.load(\"../models/rf_fraud_model.pkl\") \n"
   ]
  },
  {
   "cell_type": "markdown",
   "id": "6bcdd75e",
   "metadata": {},
   "source": [
    "### Initialize SHAP Explainer"
   ]
  },
  {
   "cell_type": "code",
   "execution_count": 2,
   "id": "00efb272",
   "metadata": {},
   "outputs": [
    {
     "data": {
      "text/plain": [
       "(56746, 30)"
      ]
     },
     "execution_count": 2,
     "metadata": {},
     "output_type": "execute_result"
    }
   ],
   "source": [
    "X_test.shape"
   ]
  },
  {
   "cell_type": "code",
   "execution_count": 3,
   "id": "0c214ce2",
   "metadata": {},
   "outputs": [],
   "source": [
    "import shap\n",
    "\n",
    "# Sample 1000 rows from the test set\n",
    "X_sample = X_test.sample(n=50, random_state=42)\n",
    "\n",
    "# Initialize SHAP TreeExplainer\n",
    "explainer = shap.TreeExplainer(model)\n",
    "\n",
    "# Compute SHAP values on the sample\n",
    "shap_values = explainer.shap_values(X_sample)\n"
   ]
  },
  {
   "cell_type": "code",
   "execution_count": 7,
   "id": "2f9e7b77",
   "metadata": {},
   "outputs": [
    {
     "name": "stdout",
     "output_type": "stream",
     "text": [
      "Index(['Time', 'V1', 'V2', 'V3', 'V4', 'V5', 'V6', 'V7', 'V8', 'V9', 'V10',\n",
      "       'V11', 'V12', 'V13', 'V14', 'V15', 'V16', 'V17', 'V18', 'V19', 'V20',\n",
      "       'V21', 'V22', 'V23', 'V24', 'V25', 'V26', 'V27', 'V28', 'Amount'],\n",
      "      dtype='object')\n"
     ]
    }
   ],
   "source": [
    "print(X_sample.columns)"
   ]
  },
  {
   "cell_type": "code",
   "execution_count": 8,
   "id": "20b0108f",
   "metadata": {},
   "outputs": [
    {
     "data": {
      "text/plain": [
       "pandas.core.frame.DataFrame"
      ]
     },
     "execution_count": 8,
     "metadata": {},
     "output_type": "execute_result"
    }
   ],
   "source": [
    "type(X_sample)\n"
   ]
  },
  {
   "cell_type": "code",
   "execution_count": 5,
   "id": "088a8006",
   "metadata": {},
   "outputs": [
    {
     "data": {
      "text/plain": [
       "sklearn.ensemble._forest.RandomForestClassifier"
      ]
     },
     "execution_count": 5,
     "metadata": {},
     "output_type": "execute_result"
    }
   ],
   "source": [
    "type(model)"
   ]
  },
  {
   "cell_type": "markdown",
   "id": "2b9e1088",
   "metadata": {},
   "source": [
    "#### Global Interpretation – SHAP Summary Plot"
   ]
  },
  {
   "cell_type": "code",
   "execution_count": null,
   "id": "171484bc",
   "metadata": {},
   "outputs": [],
   "source": [
    "# Plot summary for the positive class (fraud class = 1)\n",
    "shap.summary_plot(shap_values[1], X_sample)\n",
    "\n",
    "# Force plot for a specific prediction (e.g., index 0)\n",
    "shap.initjs()\n",
    "shap.force_plot(explainer.expected_value[1], shap_values[1][0], X_sample.iloc[0])\n",
    "\n"
   ]
  },
  {
   "cell_type": "code",
   "execution_count": null,
   "id": "c5627f2a",
   "metadata": {},
   "outputs": [],
   "source": [
    "# Multiple local explanations (e.g., first 10 instances)\n",
    "shap.force_plot(\n",
    "    explainer.expected_value[1],\n",
    "    shap_values[1][:10],\n",
    "    X_test.iloc[:10],\n",
    "    matplotlib=True\n",
    ")\n"
   ]
  }
 ],
 "metadata": {
  "kernelspec": {
   "display_name": ".venv (3.13.3)",
   "language": "python",
   "name": "python3"
  },
  "language_info": {
   "codemirror_mode": {
    "name": "ipython",
    "version": 3
   },
   "file_extension": ".py",
   "mimetype": "text/x-python",
   "name": "python",
   "nbconvert_exporter": "python",
   "pygments_lexer": "ipython3",
   "version": "3.13.3"
  }
 },
 "nbformat": 4,
 "nbformat_minor": 5
}
